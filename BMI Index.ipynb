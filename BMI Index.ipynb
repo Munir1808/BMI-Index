{
 "cells": [
  {
   "cell_type": "code",
   "execution_count": 1,
   "id": "bfd5f75b",
   "metadata": {},
   "outputs": [
    {
     "name": "stdout",
     "output_type": "stream",
     "text": [
      "Enter weight 80\n",
      "Enter height 1.5\n",
      "your BMI is 35.55555555555556,obesity\n"
     ]
    }
   ],
   "source": [
    "weight = float(input(\"Enter weight \"))\n",
    "height = float(input(\"Enter height \"))\n",
    "\n",
    "bmi = weight/(height**2)\n",
    "if bmi<18.5:\n",
    "    print(f\"your BMI is {bmi}, Your are under weight\")\n",
    "elif bmi<25:\n",
    "    print(f\"your BMI is {bmi},Your are helthy weight\")\n",
    "elif bmi <30:\n",
    "    print(f\"your BMI is {bmi},your are over weight\")\n",
    "else:\n",
    "    print(f\"your BMI is {bmi},obesity\")\n"
   ]
  }
 ],
 "metadata": {
  "kernelspec": {
   "display_name": "Python 3 (ipykernel)",
   "language": "python",
   "name": "python3"
  },
  "language_info": {
   "codemirror_mode": {
    "name": "ipython",
    "version": 3
   },
   "file_extension": ".py",
   "mimetype": "text/x-python",
   "name": "python",
   "nbconvert_exporter": "python",
   "pygments_lexer": "ipython3",
   "version": "3.11.3"
  }
 },
 "nbformat": 4,
 "nbformat_minor": 5
}
